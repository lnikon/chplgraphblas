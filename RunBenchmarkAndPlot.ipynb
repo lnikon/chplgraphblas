{
 "cells": [
  {
   "cell_type": "code",
   "execution_count": 201,
   "metadata": {},
   "outputs": [],
   "source": [
    "# /usr/bin/env python\n",
    "\n",
    "import matplotlib.pyplot as plt\n",
    "import subprocess\n",
    "import os"
   ]
  },
  {
   "cell_type": "code",
   "execution_count": 202,
   "metadata": {},
   "outputs": [],
   "source": [
    "output_filename = \"spent_time.txt\""
   ]
  },
  {
   "cell_type": "code",
   "execution_count": 236,
   "metadata": {},
   "outputs": [],
   "source": [
    "def benchmark(tool_name='./dot'):\n",
    "    # TODO Use an API to retrieve hardware-supported threads count\n",
    "    thread_count = 8\n",
    "    with open(output_filename, \"w\") as f:\n",
    "        print(\"Using file: \", output_filename)\n",
    "    \n",
    "    for i in range(0, thread_count):\n",
    "        with open(output_filename, \"a+\") as f:\n",
    "            subprocess.Popen(\"./apply --vecLen=1024\", \n",
    "                             shell=True,\n",
    "                             stdout=f,\n",
    "                             env={'CHPL_RT_NUM_THREADS_PER_LOCALE': str(i+1)}).wait()"
   ]
  },
  {
   "cell_type": "code",
   "execution_count": 237,
   "metadata": {},
   "outputs": [],
   "source": [
    "def read_benchmark_results():\n",
    "    content = []\n",
    "    with open(output_filename, \"r\") as f:\n",
    "        content = f.read()\n",
    "        \n",
    "    thread_count = []\n",
    "    time_spent = []\n",
    "    current_thread = 1\n",
    "    for line in content.split('\\n'):\n",
    "        thread_count.append(current_thread)\n",
    "        current_thread += 1\n",
    "        if len(line) != 0:\n",
    "            time_spent.append(float(line))\n",
    "        else:\n",
    "            del thread_count[-1]\n",
    "\n",
    "    return thread_count, time_spent\n",
    "        "
   ]
  },
  {
   "cell_type": "code",
   "execution_count": 238,
   "metadata": {},
   "outputs": [],
   "source": [
    "def visualize(thread_idx, time_spent_for_thread):\n",
    "    plt.grid()\n",
    "    plt.plot(thread_idx, time_spent_for_thread)"
   ]
  },
  {
   "cell_type": "code",
   "execution_count": 239,
   "metadata": {},
   "outputs": [
    {
     "name": "stdout",
     "output_type": "stream",
     "text": [
      "Using file:  spent_time.txt\n",
      "thread_count:  [1, 2, 3, 4, 5, 6, 7, 8]\n",
      "time_spent:  [111.433, 60.6621, 46.4003, 35.5963, 31.2939, 29.9802, 27.23, 26.248]\n"
     ]
    },
    {
     "data": {
      "image/png": "[encoded data removed]",
      "text/plain": [
       "<Figure size 432x288 with 1 Axes>"
      ]
     },
     "metadata": {
      "needs_background": "light"
     },
     "output_type": "display_data"
    }
   ],
   "source": [
    "def main():\n",
    "    benchmark()\n",
    "    x, y = read_benchmark_results()\n",
    "    print('thread_count: ', x)\n",
    "    print('time_spent: ', y)\n",
    "    visualize(x, y)\n",
    "\n",
    "\n",
    "main()"
   ]
  },
  {
   "cell_type": "code",
   "execution_count": null,
   "metadata": {},
   "outputs": [],
   "source": []
  },
  {
   "cell_type": "code",
   "execution_count": null,
   "metadata": {},
   "outputs": [],
   "source": []
  },
  {
   "cell_type": "code",
   "execution_count": null,
   "metadata": {},
   "outputs": [],
   "source": []
  }
 ],
 "metadata": {
  "kernelspec": {
   "display_name": "Python 3",
   "language": "python",
   "name": "python3"
  },
  "language_info": {
   "codemirror_mode": {
    "name": "ipython",
    "version": 3
   },
   "file_extension": ".py",
   "mimetype": "text/x-python",
   "name": "python",
   "nbconvert_exporter": "python",
   "pygments_lexer": "ipython3",
   "version": "3.8.5"
  }
 },
 "nbformat": 4,
 "nbformat_minor": 4
}
