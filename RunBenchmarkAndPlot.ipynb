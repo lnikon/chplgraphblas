{
 "cells": [
  {
   "cell_type": "code",
   "execution_count": 201,
   "metadata": {},
   "outputs": [],
   "source": [
    "# /usr/bin/env python\n",
    "\n",
    "import matplotlib.pyplot as plt\n",
    "import subprocess\n",
    "import os"
   ]
  },
  {
   "cell_type": "code",
   "execution_count": 246,
   "metadata": {},
   "outputs": [],
   "source": [
    "output_filename = \"spent_time.txt\"\n",
    "operations = [\"./dot\", \"./nrm2\", \"./apply\"]"
   ]
  },
  {
   "cell_type": "code",
   "execution_count": 252,
   "metadata": {},
   "outputs": [],
   "source": [
    "def benchmark(tool_name='./dot'):\n",
    "    # TODO Use an API to retrieve hardware-supported threads count\n",
    "    thread_count = 8\n",
    "    with open(output_filename, \"w\") as f:\n",
    "        print(\"Using file: \", output_filename)\n",
    "    \n",
    "    for i in range(0, thread_count):\n",
    "        with open(output_filename, \"a+\") as f:\n",
    "            subprocess.Popen(tool_name + \" --vecLen=1024\", \n",
    "                             shell=True,\n",
    "                             stdout=f,\n",
    "                             env={'CHPL_RT_NUM_THREADS_PER_LOCALE': str(i+1)}).wait()"
   ]
  },
  {
   "cell_type": "code",
   "execution_count": 253,
   "metadata": {},
   "outputs": [],
   "source": [
    "def read_benchmark_results():\n",
    "    content = []\n",
    "    with open(output_filename, \"r\") as f:\n",
    "        content = f.read()\n",
    "        \n",
    "    thread_count = []\n",
    "    time_spent = []\n",
    "    current_thread = 1\n",
    "    for line in content.split('\\n'):\n",
    "        thread_count.append(current_thread)\n",
    "        current_thread += 1\n",
    "        if len(line) != 0:\n",
    "            time_spent.append(float(line))\n",
    "        else:\n",
    "            del thread_count[-1]\n",
    "\n",
    "    return thread_count, time_spent\n",
    "        "
   ]
  },
  {
   "cell_type": "code",
   "execution_count": 254,
   "metadata": {},
   "outputs": [],
   "source": [
    "def visualize(thread_idx, time_spent_for_thread, idx):\n",
    "    title = operations[idx]\n",
    "    plt.grid()\n",
    "    fig, ax = plt.subplots()\n",
    "    ax.set_title(title)\n",
    "    ax.set_xlabel(\"Thread Count\")\n",
    "    ax.set_ylabel(\"Time(s)\")\n",
    "    ax.plot(thread_idx, time_spent_for_thread)"
   ]
  },
  {
   "cell_type": "code",
   "execution_count": null,
   "metadata": {},
   "outputs": [
    {
     "name": "stdout",
     "output_type": "stream",
     "text": [
      "Using file:  spent_time.txt\n",
      "thread_count:  [1, 2, 3, 4, 5, 6, 7, 8]\n",
      "time_spent:  [0.009171, 0.021461, 0.037413, 0.057697, 0.064993, 0.090189, 0.111023, 0.111966]\n",
      "Using file:  spent_time.txt\n",
      "thread_count:  [1, 2, 3, 4, 5, 6, 7, 8]\n",
      "time_spent:  [0.005051, 0.022941, 0.038786, 0.054352, 0.064623, 0.084363, 0.130556, 0.131191]\n",
      "Using file:  spent_time.txt\n"
     ]
    }
   ],
   "source": [
    "def main():\n",
    "    for idx, operation in enumerate(operations):\n",
    "        benchmark(operation)\n",
    "        x, y = read_benchmark_results()\n",
    "        print('thread_count: ', x)\n",
    "        print('time_spent: ', y)\n",
    "        visualize(x, y, idx)\n",
    "\n",
    "main()"
   ]
  },
  {
   "cell_type": "code",
   "execution_count": null,
   "metadata": {},
   "outputs": [],
   "source": []
  },
  {
   "cell_type": "code",
   "execution_count": null,
   "metadata": {},
   "outputs": [],
   "source": []
  },
  {
   "cell_type": "code",
   "execution_count": null,
   "metadata": {},
   "outputs": [],
   "source": []
  }
 ],
 "metadata": {
  "kernelspec": {
   "display_name": "Python 3",
   "language": "python",
   "name": "python3"
  },
  "language_info": {
   "codemirror_mode": {
    "name": "ipython",
    "version": 3
   },
   "file_extension": ".py",
   "mimetype": "text/x-python",
   "name": "python",
   "nbconvert_exporter": "python",
   "pygments_lexer": "ipython3",
   "version": "3.8.5"
  }
 },
 "nbformat": 4,
 "nbformat_minor": 4
}
